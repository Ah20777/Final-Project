{
  "nbformat": 4,
  "nbformat_minor": 0,
  "metadata": {
    "colab": {
      "name": "fire_Vs_No_Fire.ipynb",
      "provenance": [],
      "collapsed_sections": []
    },
    "kernelspec": {
      "name": "python3",
      "display_name": "Python 3"
    },
    "language_info": {
      "name": "python"
    }
  },
  "cells": [
    {
      "cell_type": "markdown",
      "metadata": {
        "id": "oS9U2bgcD3xy"
      },
      "source": [
        "# Importing Libraries for performing different operations"
      ]
    },
    {
      "cell_type": "code",
      "metadata": {
        "id": "lWXBRIbiD2LX"
      },
      "source": [
        "import numpy as np\n",
        "import pandas as pd\n",
        "%matplotlib inline\n",
        "import matplotlib.pyplot as plt\n",
        "import matplotlib as mpl\n",
        "import os\n",
        "import tensorflow as tf\n",
        "from tensorflow import keras \n",
        "from tensorflow.keras.preprocessing.image import ImageDataGenerator\n",
        "from keras import layers\n",
        "from keras import models"
      ],
      "execution_count": 2,
      "outputs": []
    },
    {
      "cell_type": "code",
      "metadata": {
        "colab": {
          "base_uri": "https://localhost:8080/"
        },
        "id": "Agpn9LxvhXOE",
        "outputId": "619b1e13-f860-4fe9-c606-19fc648f7b3b"
      },
      "source": [
        "from google.colab import drive\n",
        "drive.mount('/content/drive')"
      ],
      "execution_count": 3,
      "outputs": [
        {
          "output_type": "stream",
          "text": [
            "Mounted at /content/drive\n"
          ],
          "name": "stdout"
        }
      ]
    },
    {
      "cell_type": "code",
      "metadata": {
        "id": "o4h3KIjeh54u"
      },
      "source": [
        "!unzip -uq \"/content/drive/MyDrive/Fire_VS NO_ Fire /Fire-vs-NoFire.zip\" -d \"/content/Project\""
      ],
      "execution_count": 4,
      "outputs": []
    },
    {
      "cell_type": "code",
      "metadata": {
        "id": "p9wN35BOixHK"
      },
      "source": [
        "!unzip -uq \"/content/Project/Fire-vs-NoFire/Test.zip\" -d \"/content/Project/Fire-vs-NoFire\""
      ],
      "execution_count": 5,
      "outputs": []
    },
    {
      "cell_type": "code",
      "metadata": {
        "id": "KrELH-Vui7Az"
      },
      "source": [
        "!unzip -uq \"/content/Project/Fire-vs-NoFire/Training.zip\" -d \"/content/Project/Fire-vs-NoFire\""
      ],
      "execution_count": 6,
      "outputs": []
    },
    {
      "cell_type": "code",
      "metadata": {
        "id": "EcVz7lPtj-Fs"
      },
      "source": [
        "import os"
      ],
      "execution_count": 7,
      "outputs": []
    },
    {
      "cell_type": "code",
      "metadata": {
        "colab": {
          "base_uri": "https://localhost:8080/"
        },
        "id": "KEJpQNwZjlof",
        "outputId": "4c284cfc-b5b2-443d-9ebf-d5910a5f1939"
      },
      "source": [
        "print('fire test:', len(os.listdir('/content/Project/Fire-vs-NoFire/Test/Fire')))\n",
        "print('no fire test:', len(os.listdir('/content/Project/Fire-vs-NoFire/Test/No_Fire')))"
      ],
      "execution_count": 9,
      "outputs": [
        {
          "output_type": "stream",
          "text": [
            "fire test: 5137\n",
            "no fire test: 3480\n"
          ],
          "name": "stdout"
        }
      ]
    },
    {
      "cell_type": "code",
      "metadata": {
        "colab": {
          "base_uri": "https://localhost:8080/"
        },
        "id": "DrqLfxUdj3tT",
        "outputId": "9b270ad0-5ec3-43b9-9062-5cc488ace735"
      },
      "source": [
        "print('fire training:', len(os.listdir('/content/Project/Fire-vs-NoFire/Training/Fire')))\n",
        "print('no fire training:', len(os.listdir('/content/Project/Fire-vs-NoFire/Training/No_Fire')))"
      ],
      "execution_count": 10,
      "outputs": [
        {
          "output_type": "stream",
          "text": [
            "fire training: 25018\n",
            "no fire training: 14357\n"
          ],
          "name": "stdout"
        }
      ]
    },
    {
      "cell_type": "code",
      "metadata": {
        "id": "2wPELlRxm8Uq"
      },
      "source": [
        "train_dir ='/content/Project/Fire-vs-NoFire/Training'\n",
        "test_dir ='/content/Project/Fire-vs-NoFire/Test'"
      ],
      "execution_count": 11,
      "outputs": []
    },
    {
      "cell_type": "code",
      "metadata": {
        "colab": {
          "base_uri": "https://localhost:8080/"
        },
        "id": "rv7DfDzxm5Au",
        "outputId": "102326ee-6102-4ed7-e4df-4c71ad3340e3"
      },
      "source": [
        "from keras.preprocessing.image import ImageDataGenerator\n",
        "\n",
        "train_datagen = ImageDataGenerator(rescale=1./255)\n",
        "test_datagen = ImageDataGenerator(rescale=1./255)\n",
        "\n",
        "train_generator = train_datagen.flow_from_directory(train_dir,\n",
        "                                                    target_size=(254, 254), \n",
        "                                                    batch_size=10,\n",
        "                                                    class_mode='binary')\n",
        "\n",
        "validation_generator = test_datagen.flow_from_directory(test_dir,\n",
        "                                                        target_size=(254, 254),\n",
        "                                                        batch_size=10,\n",
        "                                                        class_mode='binary')"
      ],
      "execution_count": 12,
      "outputs": [
        {
          "output_type": "stream",
          "text": [
            "Found 39375 images belonging to 2 classes.\n",
            "Found 8617 images belonging to 2 classes.\n"
          ],
          "name": "stdout"
        }
      ]
    },
    {
      "cell_type": "code",
      "metadata": {
        "id": "arLhOisGrjsH"
      },
      "source": [
        "from tensorflow.keras import layers\n",
        "from tensorflow.keras import models"
      ],
      "execution_count": 13,
      "outputs": []
    },
    {
      "cell_type": "code",
      "metadata": {
        "colab": {
          "base_uri": "https://localhost:8080/"
        },
        "id": "vtxyatUWFkhZ",
        "outputId": "c464cc60-cdca-450b-9ffa-98e2dc4468b1"
      },
      "source": [
        "model = models.Sequential()\n",
        "model.add(layers.Conv2D(32, (3, 3), activation='relu', input_shape=(254, 254, 3)))\n",
        "model.add(layers.MaxPooling2D((2, 2)))\n",
        "model.add(layers.Conv2D(64, (3, 3), activation='relu'))\n",
        "model.add(layers.MaxPooling2D((2, 2)))\n",
        "model.add(layers.Conv2D(64, (3, 3), activation='relu'))\n",
        "model.add(layers.Flatten())\n",
        "model.add(layers.Dense(64, activation='relu'))\n",
        "model.add(layers.Dense(1, activation='sigmoid'))\n",
        "model.summary()"
      ],
      "execution_count": 14,
      "outputs": [
        {
          "output_type": "stream",
          "text": [
            "Model: \"sequential\"\n",
            "_________________________________________________________________\n",
            "Layer (type)                 Output Shape              Param #   \n",
            "=================================================================\n",
            "conv2d (Conv2D)              (None, 252, 252, 32)      896       \n",
            "_________________________________________________________________\n",
            "max_pooling2d (MaxPooling2D) (None, 126, 126, 32)      0         \n",
            "_________________________________________________________________\n",
            "conv2d_1 (Conv2D)            (None, 124, 124, 64)      18496     \n",
            "_________________________________________________________________\n",
            "max_pooling2d_1 (MaxPooling2 (None, 62, 62, 64)        0         \n",
            "_________________________________________________________________\n",
            "conv2d_2 (Conv2D)            (None, 60, 60, 64)        36928     \n",
            "_________________________________________________________________\n",
            "flatten (Flatten)            (None, 230400)            0         \n",
            "_________________________________________________________________\n",
            "dense (Dense)                (None, 64)                14745664  \n",
            "_________________________________________________________________\n",
            "dense_1 (Dense)              (None, 1)                 65        \n",
            "=================================================================\n",
            "Total params: 14,802,049\n",
            "Trainable params: 14,802,049\n",
            "Non-trainable params: 0\n",
            "_________________________________________________________________\n"
          ],
          "name": "stdout"
        }
      ]
    },
    {
      "cell_type": "code",
      "metadata": {
        "id": "yAwaaytpsYZ-"
      },
      "source": [
        "from keras import optimizers\n",
        "model.compile(loss='binary_crossentropy', \n",
        "              optimizer=optimizers.RMSprop(lr=1e-4),\n",
        "              metrics=['acc'])"
      ],
      "execution_count": 15,
      "outputs": []
    },
    {
      "cell_type": "code",
      "metadata": {
        "colab": {
          "base_uri": "https://localhost:8080/"
        },
        "id": "tVy-XcL7nfp5",
        "outputId": "f616c821-e93f-4ec4-e470-840a8a103424"
      },
      "source": [
        "history = model.fit_generator(train_generator,\n",
        "                              steps_per_epoch=100,\n",
        "                              epochs=30,\n",
        "                              validation_data=validation_generator,\n",
        "                              validation_steps=10)"
      ],
      "execution_count": 17,
      "outputs": [
        {
          "output_type": "stream",
          "text": [
            "/usr/local/lib/python3.7/dist-packages/tensorflow/python/keras/engine/training.py:1844: UserWarning: `Model.fit_generator` is deprecated and will be removed in a future version. Please use `Model.fit`, which supports generators.\n",
            "  warnings.warn('`Model.fit_generator` is deprecated and '\n"
          ],
          "name": "stderr"
        },
        {
          "output_type": "stream",
          "text": [
            "Epoch 1/30\n",
            "100/100 [==============================] - 116s 1s/step - loss: 0.4961 - acc: 0.7862 - val_loss: 1.0953 - val_acc: 0.5400\n",
            "Epoch 2/30\n",
            "100/100 [==============================] - 112s 1s/step - loss: 0.2527 - acc: 0.9233 - val_loss: 1.1374 - val_acc: 0.6400\n",
            "Epoch 3/30\n",
            "100/100 [==============================] - 111s 1s/step - loss: 0.1826 - acc: 0.9394 - val_loss: 1.0272 - val_acc: 0.6300\n",
            "Epoch 4/30\n",
            "100/100 [==============================] - 113s 1s/step - loss: 0.1347 - acc: 0.9514 - val_loss: 1.1832 - val_acc: 0.5100\n",
            "Epoch 5/30\n",
            "100/100 [==============================] - 111s 1s/step - loss: 0.1057 - acc: 0.9720 - val_loss: 1.0652 - val_acc: 0.4600\n",
            "Epoch 6/30\n",
            "100/100 [==============================] - 113s 1s/step - loss: 0.0980 - acc: 0.9741 - val_loss: 0.9633 - val_acc: 0.5000\n",
            "Epoch 7/30\n",
            "100/100 [==============================] - 114s 1s/step - loss: 0.0797 - acc: 0.9706 - val_loss: 0.7804 - val_acc: 0.5800\n",
            "Epoch 8/30\n",
            "100/100 [==============================] - 115s 1s/step - loss: 0.0758 - acc: 0.9789 - val_loss: 1.3450 - val_acc: 0.5200\n",
            "Epoch 9/30\n",
            "100/100 [==============================] - 114s 1s/step - loss: 0.1128 - acc: 0.9684 - val_loss: 1.0629 - val_acc: 0.5200\n",
            "Epoch 10/30\n",
            "100/100 [==============================] - 113s 1s/step - loss: 0.0572 - acc: 0.9866 - val_loss: 1.2801 - val_acc: 0.4500\n",
            "Epoch 11/30\n",
            "100/100 [==============================] - 114s 1s/step - loss: 0.0992 - acc: 0.9646 - val_loss: 1.3027 - val_acc: 0.5000\n",
            "Epoch 12/30\n",
            "100/100 [==============================] - 114s 1s/step - loss: 0.0709 - acc: 0.9822 - val_loss: 1.0482 - val_acc: 0.5500\n",
            "Epoch 13/30\n",
            "100/100 [==============================] - 112s 1s/step - loss: 0.0609 - acc: 0.9788 - val_loss: 1.2103 - val_acc: 0.4900\n",
            "Epoch 14/30\n",
            "100/100 [==============================] - 112s 1s/step - loss: 0.0465 - acc: 0.9832 - val_loss: 1.3989 - val_acc: 0.5800\n",
            "Epoch 15/30\n",
            "100/100 [==============================] - 113s 1s/step - loss: 0.0383 - acc: 0.9925 - val_loss: 1.0430 - val_acc: 0.5700\n",
            "Epoch 16/30\n",
            "100/100 [==============================] - 114s 1s/step - loss: 0.0290 - acc: 0.9921 - val_loss: 1.3856 - val_acc: 0.5300\n",
            "Epoch 17/30\n",
            "100/100 [==============================] - 121s 1s/step - loss: 0.0346 - acc: 0.9897 - val_loss: 1.4685 - val_acc: 0.5700\n",
            "Epoch 18/30\n",
            "100/100 [==============================] - 121s 1s/step - loss: 0.0472 - acc: 0.9878 - val_loss: 1.3668 - val_acc: 0.5100\n",
            "Epoch 19/30\n",
            "100/100 [==============================] - 116s 1s/step - loss: 0.0254 - acc: 0.9910 - val_loss: 1.5799 - val_acc: 0.4400\n",
            "Epoch 20/30\n",
            "100/100 [==============================] - 113s 1s/step - loss: 0.0309 - acc: 0.9909 - val_loss: 1.4306 - val_acc: 0.5400\n",
            "Epoch 21/30\n",
            "100/100 [==============================] - 112s 1s/step - loss: 0.0400 - acc: 0.9912 - val_loss: 1.7611 - val_acc: 0.4800\n",
            "Epoch 22/30\n",
            "100/100 [==============================] - 113s 1s/step - loss: 0.0758 - acc: 0.9812 - val_loss: 1.5410 - val_acc: 0.5800\n",
            "Epoch 23/30\n",
            "100/100 [==============================] - 115s 1s/step - loss: 0.0259 - acc: 0.9946 - val_loss: 1.5862 - val_acc: 0.5500\n",
            "Epoch 24/30\n",
            "100/100 [==============================] - 112s 1s/step - loss: 0.0409 - acc: 0.9876 - val_loss: 1.2116 - val_acc: 0.6100\n",
            "Epoch 25/30\n",
            "100/100 [==============================] - 112s 1s/step - loss: 0.0156 - acc: 0.9943 - val_loss: 1.8858 - val_acc: 0.5200\n",
            "Epoch 26/30\n",
            "100/100 [==============================] - 112s 1s/step - loss: 0.0331 - acc: 0.9873 - val_loss: 1.3439 - val_acc: 0.6000\n",
            "Epoch 27/30\n",
            "100/100 [==============================] - 114s 1s/step - loss: 0.0133 - acc: 0.9959 - val_loss: 1.7137 - val_acc: 0.5400\n",
            "Epoch 28/30\n",
            "100/100 [==============================] - 115s 1s/step - loss: 0.0283 - acc: 0.9909 - val_loss: 1.6226 - val_acc: 0.5200\n",
            "Epoch 29/30\n",
            "100/100 [==============================] - 114s 1s/step - loss: 0.0260 - acc: 0.9871 - val_loss: 1.6133 - val_acc: 0.4700\n",
            "Epoch 30/30\n",
            "100/100 [==============================] - 114s 1s/step - loss: 0.0138 - acc: 0.9964 - val_loss: 1.3920 - val_acc: 0.5500\n"
          ],
          "name": "stdout"
        }
      ]
    },
    {
      "cell_type": "code",
      "metadata": {
        "colab": {
          "base_uri": "https://localhost:8080/",
          "height": 545
        },
        "id": "R7wzVr9ElFF7",
        "outputId": "2875267f-66ae-45fd-9d62-feb6a42bca94"
      },
      "source": [
        "model.save('Fire_VS_NOFire.h5')\n",
        "\n",
        "import matplotlib.pyplot as plt\n",
        "\n",
        "acc = history.history['acc']\n",
        "val_acc = history.history['val_acc']\n",
        "loss = history.history['loss']\n",
        "val_loss = history.history['val_loss']\n",
        "\n",
        "epochs = range(1, len(acc) + 1)\n",
        "\n",
        "plt.plot(epochs, acc, 'bo', label='Training acc')\n",
        "plt.plot(epochs, val_acc, 'b', label='Validation acc')\n",
        "plt.title('Training and validation accuracy')\n",
        "plt.legend()\n",
        "\n",
        "plt.figure()\n",
        "\n",
        "plt.plot(epochs, loss, 'bo', label='Training loss')\n",
        "plt.plot(epochs, val_loss, 'b', label='Validation loss')\n",
        "plt.title('Training and validation loss')\n",
        "plt.legend()\n",
        "\n",
        "plt.show()"
      ],
      "execution_count": 18,
      "outputs": [
        {
          "output_type": "display_data",
          "data": {
            "image/png": "[encoded data removed]",
            "text/plain": [
              "<Figure size 432x288 with 1 Axes>"
            ]
          },
          "metadata": {
            "tags": [],
            "needs_background": "light"
          }
        },
        {
          "output_type": "display_data",
          "data": {
            "image/png": "[encoded data removed]",
            "text/plain": [
              "<Figure size 432x288 with 1 Axes>"
            ]
          },
          "metadata": {
            "tags": [],
            "needs_background": "light"
          }
        }
      ]
    },
    {
      "cell_type": "code",
      "metadata": {
        "id": "SlegsarFPH_l"
      },
      "source": [
        "model.save(\"model.h5\")"
      ],
      "execution_count": 22,
      "outputs": []
    },
    {
      "cell_type": "code",
      "metadata": {
        "id": "eQfSZTwwPSVT"
      },
      "source": [
        "from tensorflow.keras import backend as K \n",
        "\n",
        "K.clear_session()\n",
        "del model"
      ],
      "execution_count": 23,
      "outputs": []
    },
    {
      "cell_type": "code",
      "metadata": {
        "colab": {
          "base_uri": "https://localhost:8080/"
        },
        "id": "kU20xJUsPWC0",
        "outputId": "6aa005ae-f962-4749-885e-a56044e1a7fb"
      },
      "source": [
        "train_datagen = ImageDataGenerator(\n",
        "    rescale=1./255,\n",
        "    rotation_range=40,\n",
        "    width_shift_range=0.2,\n",
        "    height_shift_range=0.2,\n",
        "    shear_range=0.2,\n",
        "    zoom_range=0.2,\n",
        "    horizontal_flip=True,)\n",
        "\n",
        "test_datagen = ImageDataGenerator(rescale=1./255)\n",
        "\n",
        "train_generator = train_datagen.flow_from_directory(\n",
        "        train_dir,\n",
        "        target_size=(254, 254),\n",
        "        batch_size=32,\n",
        "        class_mode='binary')\n",
        "\n",
        "validation_generator = test_datagen.flow_from_directory(\n",
        "        test_dir,\n",
        "        target_size=(254, 254),\n",
        "        batch_size=32,\n",
        "        class_mode='binary')"
      ],
      "execution_count": 24,
      "outputs": [
        {
          "output_type": "stream",
          "text": [
            "Found 39375 images belonging to 2 classes.\n",
            "Found 8617 images belonging to 2 classes.\n"
          ],
          "name": "stdout"
        }
      ]
    },
    {
      "cell_type": "code",
      "metadata": {
        "id": "eyvYbxCEQHC8"
      },
      "source": [
        "model = models.Sequential()\n",
        "model.add(layers.Conv2D(32, (3, 3), activation='relu',\n",
        "                        input_shape=(254, 254, 3)))\n",
        "model.add(layers.MaxPooling2D((2, 2)))\n",
        "model.add(layers.Conv2D(64, (3, 3), activation='relu'))\n",
        "model.add(layers.MaxPooling2D((2, 2)))\n",
        "model.add(layers.Conv2D(128, (3, 3), activation='relu'))\n",
        "model.add(layers.MaxPooling2D((2, 2)))\n",
        "model.add(layers.Conv2D(128, (3, 3), activation='relu'))\n",
        "model.add(layers.MaxPooling2D((2, 2)))\n",
        "model.add(layers.Flatten())\n",
        "model.add(layers.Dropout(0.5))\n",
        "model.add(layers.Dense(512, activation='relu'))\n",
        "model.add(layers.Dense(1, activation='sigmoid'))\n",
        "\n",
        "model.compile(loss='binary_crossentropy',\n",
        "              optimizer=optimizers.RMSprop(lr=1e-4),\n",
        "              metrics=['acc'])"
      ],
      "execution_count": 25,
      "outputs": []
    },
    {
      "cell_type": "code",
      "metadata": {
        "colab": {
          "base_uri": "https://localhost:8080/"
        },
        "id": "3R8Ob2LMQR4A",
        "outputId": "a97ec0b0-d206-4851-9489-23656f25b024"
      },
      "source": [
        "history = model.fit_generator(\n",
        "      train_generator,\n",
        "      steps_per_epoch=100,\n",
        "      epochs=20,\n",
        "      validation_data=validation_generator,\n",
        "      validation_steps=10)"
      ],
      "execution_count": 27,
      "outputs": [
        {
          "output_type": "stream",
          "text": [
            "/usr/local/lib/python3.7/dist-packages/tensorflow/python/keras/engine/training.py:1844: UserWarning: `Model.fit_generator` is deprecated and will be removed in a future version. Please use `Model.fit`, which supports generators.\n",
            "  warnings.warn('`Model.fit_generator` is deprecated and '\n"
          ],
          "name": "stderr"
        },
        {
          "output_type": "stream",
          "text": [
            "Epoch 1/20\n",
            "100/100 [==============================] - 464s 5s/step - loss: 0.3006 - acc: 0.9106 - val_loss: 0.8623 - val_acc: 0.6375\n",
            "Epoch 2/20\n",
            "100/100 [==============================] - 478s 5s/step - loss: 0.2279 - acc: 0.9274 - val_loss: 0.7876 - val_acc: 0.6031\n",
            "Epoch 3/20\n",
            "100/100 [==============================] - 476s 5s/step - loss: 0.1830 - acc: 0.9428 - val_loss: 1.4049 - val_acc: 0.3844\n",
            "Epoch 4/20\n",
            "100/100 [==============================] - 472s 5s/step - loss: 0.1577 - acc: 0.9463 - val_loss: 0.9235 - val_acc: 0.5906\n",
            "Epoch 5/20\n",
            "100/100 [==============================] - 478s 5s/step - loss: 0.2039 - acc: 0.9337 - val_loss: 1.1205 - val_acc: 0.5719\n",
            "Epoch 6/20\n",
            "100/100 [==============================] - 469s 5s/step - loss: 0.1702 - acc: 0.9372 - val_loss: 1.0584 - val_acc: 0.5344\n",
            "Epoch 7/20\n",
            "100/100 [==============================] - 482s 5s/step - loss: 0.1422 - acc: 0.9516 - val_loss: 1.0675 - val_acc: 0.6125\n",
            "Epoch 8/20\n",
            "100/100 [==============================] - 474s 5s/step - loss: 0.1325 - acc: 0.9509 - val_loss: 0.8623 - val_acc: 0.5938\n",
            "Epoch 9/20\n",
            "100/100 [==============================] - 471s 5s/step - loss: 0.1377 - acc: 0.9581 - val_loss: 1.0798 - val_acc: 0.5562\n",
            "Epoch 10/20\n",
            "100/100 [==============================] - 474s 5s/step - loss: 0.1407 - acc: 0.9554 - val_loss: 2.8075 - val_acc: 0.4875\n",
            "Epoch 11/20\n",
            "100/100 [==============================] - 496s 5s/step - loss: 0.1417 - acc: 0.9534 - val_loss: 1.4848 - val_acc: 0.5125\n",
            "Epoch 12/20\n",
            "100/100 [==============================] - 488s 5s/step - loss: 0.1368 - acc: 0.9488 - val_loss: 1.3804 - val_acc: 0.5031\n",
            "Epoch 13/20\n",
            "100/100 [==============================] - 478s 5s/step - loss: 0.1318 - acc: 0.9519 - val_loss: 1.2844 - val_acc: 0.5094\n",
            "Epoch 14/20\n",
            "100/100 [==============================] - 477s 5s/step - loss: 0.1324 - acc: 0.9563 - val_loss: 1.1887 - val_acc: 0.6062\n",
            "Epoch 15/20\n",
            "100/100 [==============================] - 462s 5s/step - loss: 0.1163 - acc: 0.9606 - val_loss: 1.7933 - val_acc: 0.4406\n",
            "Epoch 16/20\n",
            "100/100 [==============================] - 473s 5s/step - loss: 0.1297 - acc: 0.9572 - val_loss: 1.9201 - val_acc: 0.5375\n",
            "Epoch 17/20\n",
            "100/100 [==============================] - 469s 5s/step - loss: 0.1158 - acc: 0.9559 - val_loss: 1.4908 - val_acc: 0.5219\n",
            "Epoch 18/20\n",
            "100/100 [==============================] - 466s 5s/step - loss: 0.1191 - acc: 0.9616 - val_loss: 1.4818 - val_acc: 0.5250\n",
            "Epoch 19/20\n",
            "100/100 [==============================] - 462s 5s/step - loss: 0.1026 - acc: 0.9647 - val_loss: 1.9658 - val_acc: 0.4969\n",
            "Epoch 20/20\n",
            "100/100 [==============================] - 479s 5s/step - loss: 0.1111 - acc: 0.9641 - val_loss: 1.8753 - val_acc: 0.5437\n"
          ],
          "name": "stdout"
        }
      ]
    }
  ]
}